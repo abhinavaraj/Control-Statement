{
 "cells": [
  {
   "cell_type": "code",
   "execution_count": 1,
   "id": "c361c5c2-d1d0-4205-8efc-7f2d356b7845",
   "metadata": {},
   "outputs": [
    {
     "name": "stdout",
     "output_type": "stream",
     "text": [
      "0\n",
      "1\n",
      "2\n",
      "3\n",
      "4\n"
     ]
    }
   ],
   "source": [
    "#while loop\n",
    "count=0\n",
    "while count<5:\n",
    "    print(count)\n",
    "    count+=1"
   ]
  },
  {
   "cell_type": "code",
   "execution_count": 2,
   "id": "ca8a83ee-8904-4d6b-b9ab-bc8a67bf75f1",
   "metadata": {},
   "outputs": [],
   "source": [
    "#while loop with False condition \n",
    "count=6\n",
    "while count<5:\n",
    "    print(count)\n",
    "    count+=1\n",
    "    "
   ]
  },
  {
   "cell_type": "code",
   "execution_count": 3,
   "id": "a5e39d09-19d2-41ac-87b4-6620e76cefd8",
   "metadata": {},
   "outputs": [],
   "source": [
    "#while loop with false condition\n",
    "count=6\n",
    "while count<5:\n",
    "    print(count)\n",
    "    count+1"
   ]
  },
  {
   "cell_type": "code",
   "execution_count": 4,
   "id": "0fd2a019-cc2a-49f4-9067-fa68d30c9b89",
   "metadata": {},
   "outputs": [
    {
     "name": "stdout",
     "output_type": "stream",
     "text": [
      "Condition not satisfying\n"
     ]
    }
   ],
   "source": [
    "#while loop with else statement\n",
    "count=6\n",
    "while count<5:\n",
    "    print(count)\n",
    "    count+=1\n",
    "else:\n",
    "    print('Condition not satisfying')"
   ]
  },
  {
   "cell_type": "code",
   "execution_count": 5,
   "id": "b97fdd93-b8fa-4217-bdf3-d3b3bdcc77a3",
   "metadata": {},
   "outputs": [
    {
     "name": "stdout",
     "output_type": "stream",
     "text": [
      "0\n",
      "1\n"
     ]
    }
   ],
   "source": [
    "#Using break statement\n",
    "count=0\n",
    "while count<5:\n",
    "    if count==2:\n",
    "       break\n",
    "    print (count)\n",
    "    count+=1"
   ]
  },
  {
   "cell_type": "code",
   "execution_count": 6,
   "id": "26367c8d-37a7-4ac1-8a41-2748b1577e78",
   "metadata": {},
   "outputs": [
    {
     "name": "stdout",
     "output_type": "stream",
     "text": [
      "1\n",
      "2\n",
      "4\n",
      "5\n"
     ]
    }
   ],
   "source": [
    "count=0\n",
    "while count<5:\n",
    "    count+=1\n",
    "    if count==3:\n",
    "        continue\n",
    "    print(count)"
   ]
  },
  {
   "cell_type": "code",
   "execution_count": 7,
   "id": "997a1489-6134-45c8-ba06-147432fe27ce",
   "metadata": {},
   "outputs": [
    {
     "name": "stdout",
     "output_type": "stream",
     "text": [
      "0\n",
      "1\n",
      "2\n",
      "3\n",
      "4\n",
      "5\n",
      "6\n",
      "7\n",
      "8\n",
      "9\n",
      "10\n",
      "11\n",
      "12\n",
      "13\n",
      "14\n"
     ]
    }
   ],
   "source": [
    "#For loop\n",
    "for i in range(15):\n",
    "    print(i)"
   ]
  },
  {
   "cell_type": "code",
   "execution_count": 8,
   "id": "29d8d5d4-b30c-496c-a9e7-5bb4d6af1eb7",
   "metadata": {},
   "outputs": [
    {
     "name": "stdout",
     "output_type": "stream",
     "text": [
      "0\n",
      "1\n",
      "2\n",
      "4\n"
     ]
    }
   ],
   "source": [
    "for i in range(5):\n",
    "    if i==3:\n",
    "        continue\n",
    "    print(i)"
   ]
  },
  {
   "cell_type": "code",
   "execution_count": 10,
   "id": "11fab786-d9c0-43b6-9106-34a15af57fc6",
   "metadata": {},
   "outputs": [
    {
     "name": "stdout",
     "output_type": "stream",
     "text": [
      "0 apple\n",
      "1 banana\n",
      "2 orange\n",
      "3 cherry\n",
      "4 grapes\n"
     ]
    }
   ],
   "source": [
    "#Enumerate\n",
    "fruit=['apple','banana','orange','cherry','grapes']\n",
    "for index,i in enumerate (fruit):\n",
    "    print(index,i)"
   ]
  },
  {
   "cell_type": "code",
   "execution_count": null,
   "id": "d0219c32-7eef-4478-952d-082671c679f6",
   "metadata": {},
   "outputs": [],
   "source": []
  }
 ],
 "metadata": {
  "kernelspec": {
   "display_name": "Python [conda env:base] *",
   "language": "python",
   "name": "conda-base-py"
  },
  "language_info": {
   "codemirror_mode": {
    "name": "ipython",
    "version": 3
   },
   "file_extension": ".py",
   "mimetype": "text/x-python",
   "name": "python",
   "nbconvert_exporter": "python",
   "pygments_lexer": "ipython3",
   "version": "3.13.5"
  }
 },
 "nbformat": 4,
 "nbformat_minor": 5
}
