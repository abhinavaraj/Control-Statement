{
 "cells": [
  {
   "cell_type": "code",
   "execution_count": 1,
   "id": "890713f6-7c85-47ff-bf6e-4598aa414e35",
   "metadata": {},
   "outputs": [
    {
     "name": "stdout",
     "output_type": "stream",
     "text": [
      "You are ELIGIBLE to vote\n"
     ]
    }
   ],
   "source": [
    "#Simple IF statement--> Condition True\n",
    "age=18\n",
    "if age>=18:\n",
    "    print('You are ELIGIBLE to vote')"
   ]
  },
  {
   "cell_type": "code",
   "execution_count": 2,
   "id": "14c8d164-151a-4841-a0e7-d620e2839aba",
   "metadata": {},
   "outputs": [],
   "source": [
    "#Simple IF statement\n",
    "age=18\n",
    "if age>18:\n",
    "    print('You are ELIGIBLE to vote')"
   ]
  },
  {
   "cell_type": "code",
   "execution_count": 3,
   "id": "a93ba15e-020f-4421-ab95-9c4712808f6a",
   "metadata": {},
   "outputs": [
    {
     "name": "stdout",
     "output_type": "stream",
     "text": [
      "you are INELIGIBLE to vote\n"
     ]
    }
   ],
   "source": [
    "#IF/ELSE statement\n",
    "age=18\n",
    "if age>18:\n",
    "    print('you are ELIGIBLE to vote')\n",
    "else:\n",
    "    print('you are INELIGIBLE to vote')"
   ]
  },
  {
   "cell_type": "code",
   "execution_count": 6,
   "id": "cb3092bb-14e8-47a1-bfc8-6f5f2cf025e1",
   "metadata": {},
   "outputs": [
    {
     "name": "stdin",
     "output_type": "stream",
     "text": [
      "Enter the age 66\n"
     ]
    },
    {
     "name": "stdout",
     "output_type": "stream",
     "text": [
      "SENIOR CITIZEN\n"
     ]
    }
   ],
   "source": [
    "#ELIF LADDER statement\n",
    "age=int(input('Enter the age'))\n",
    "if age<18:\n",
    "    print(\"MINOR\")\n",
    "elif age>=18 and age<60:\n",
    "    print(\"ADULT\")\n",
    "else:\n",
    "    print('SENIOR CITIZEN')"
   ]
  },
  {
   "cell_type": "code",
   "execution_count": 7,
   "id": "14d412c4-0bc4-40ca-979a-ef5b6879b3d5",
   "metadata": {},
   "outputs": [
    {
     "name": "stdin",
     "output_type": "stream",
     "text": [
      "Enter your Mark 74\n"
     ]
    },
    {
     "name": "stdout",
     "output_type": "stream",
     "text": [
      "You have secured C GRADE\n"
     ]
    }
   ],
   "source": [
    "# Evaluating Grade on the basis of marks\n",
    "m=int(input('Enter your Mark'))\n",
    "if m>=90:\n",
    "    print('You have secured A GRADE')\n",
    "elif m>=75:\n",
    "    print('You have secured B GRADE')\n",
    "elif m>=65:\n",
    "    print('You have secured C GRADE')\n",
    "elif m>=55:\n",
    "    print('You have secured D GRADE')\n",
    "else:\n",
    "    print('You have been FAILED') "
   ]
  },
  {
   "cell_type": "code",
   "execution_count": 8,
   "id": "663c9125-d61b-48dc-846e-cc02a1548a6a",
   "metadata": {},
   "outputs": [
    {
     "name": "stdin",
     "output_type": "stream",
     "text": [
      "Enter your age 18\n",
      "Do you have a VOTER ID (True/False): ture\n"
     ]
    },
    {
     "name": "stdout",
     "output_type": "stream",
     "text": [
      "You need an voter ID\n"
     ]
    }
   ],
   "source": [
    "#Nested IF statement\n",
    "age=int(input('Enter your age'))\n",
    "voter_id=input('Do you have a VOTER ID (True/False):')=='True'\n",
    "if age>=18:\n",
    "    if voter_id==True:\n",
    "        print('You can vote')\n",
    "    else:\n",
    "        print('You need an voter ID')\n",
    "else:\n",
    "    print('You are Minor')\n",
    "    "
   ]
  },
  {
   "cell_type": "code",
   "execution_count": 9,
   "id": "74278115-5926-47b2-826b-fca431c365b5",
   "metadata": {},
   "outputs": [
    {
     "data": {
      "text/plain": [
       "False"
      ]
     },
     "execution_count": 9,
     "metadata": {},
     "output_type": "execute_result"
    }
   ],
   "source": [
    "bool(False)\n"
   ]
  },
  {
   "cell_type": "code",
   "execution_count": 10,
   "id": "647adf3d-6daa-434f-9c0b-957c63cdbc11",
   "metadata": {},
   "outputs": [
    {
     "name": "stdin",
     "output_type": "stream",
     "text": [
      "Enter your age 17\n",
      "Do you have a VOTER ID (Y/N): N\n"
     ]
    },
    {
     "name": "stdout",
     "output_type": "stream",
     "text": [
      "You are Minor\n"
     ]
    }
   ],
   "source": [
    "age=int(input('Enter your age'))\n",
    "voter_id=input('Do you have a VOTER ID (Y/N):')\n",
    "if voter_id=='y' or voter_id=='Y':\n",
    "    True\n",
    "else:\n",
    "    False\n",
    "if age>=18:\n",
    "    if voter_id==True:\n",
    "        print('You can vote')\n",
    "    else:\n",
    "        print('You need an voter ID')\n",
    "else:\n",
    "    print('You are Minor')\n",
    "    "
   ]
  },
  {
   "cell_type": "code",
   "execution_count": null,
   "id": "4bba1b83-e160-4d9b-9504-0302dc68e2d2",
   "metadata": {},
   "outputs": [],
   "source": []
  }
 ],
 "metadata": {
  "kernelspec": {
   "display_name": "Python [conda env:base] *",
   "language": "python",
   "name": "conda-base-py"
  },
  "language_info": {
   "codemirror_mode": {
    "name": "ipython",
    "version": 3
   },
   "file_extension": ".py",
   "mimetype": "text/x-python",
   "name": "python",
   "nbconvert_exporter": "python",
   "pygments_lexer": "ipython3",
   "version": "3.13.5"
  }
 },
 "nbformat": 4,
 "nbformat_minor": 5
}
