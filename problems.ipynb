{
 "cells": [
  {
   "cell_type": "code",
   "execution_count": 4,
   "id": "69e32c61-f111-48d3-8099-51c32628c41e",
   "metadata": {},
   "outputs": [
    {
     "name": "stdin",
     "output_type": "stream",
     "text": [
      "Enter a number 1\n"
     ]
    },
    {
     "name": "stdout",
     "output_type": "stream",
     "text": [
      "The number is POSITIVE\n"
     ]
    }
   ],
   "source": [
    "#Check if a number is positive or negative\n",
    "user1=int(input('Enter a number'))\n",
    "if user1>0:\n",
    "    print('The number is POSITIVE')\n",
    "else:\n",
    "    print('The number is NEGATIVE')"
   ]
  },
  {
   "cell_type": "code",
   "execution_count": 5,
   "id": "18be1e85-bf2e-4e09-9982-5dae4a5b1020",
   "metadata": {},
   "outputs": [
    {
     "name": "stdin",
     "output_type": "stream",
     "text": [
      "Enter a number -1\n"
     ]
    },
    {
     "name": "stdout",
     "output_type": "stream",
     "text": [
      "The number is NEGATIVE\n"
     ]
    }
   ],
   "source": [
    "#Check if a number is positive,negative or zero\n",
    "user2=int(input('Enter a number'))\n",
    "if user2>1:\n",
    "    print('The number is POSITIVE')\n",
    "elif user2==0:\n",
    "    print('The number is ZERO')\n",
    "else:\n",
    "    print('The number is NEGATIVE')"
   ]
  },
  {
   "cell_type": "code",
   "execution_count": 6,
   "id": "edf6a5e6-7f92-447c-ab34-d7f7d4dff497",
   "metadata": {},
   "outputs": [
    {
     "name": "stdin",
     "output_type": "stream",
     "text": [
      "Enter the Number 2\n"
     ]
    },
    {
     "name": "stdout",
     "output_type": "stream",
     "text": [
      "The number is Even\n"
     ]
    }
   ],
   "source": [
    "#Write a program to check number is even or odd\n",
    "user3=int(input('Enter the Number'))\n",
    "if user3%2==0:\n",
    "    print('The number is Even')\n",
    "else:\n",
    "    print('The number is Odd')"
   ]
  },
  {
   "cell_type": "code",
   "execution_count": 7,
   "id": "d26ac694-e6c7-40e7-af49-d192ca5d9465",
   "metadata": {},
   "outputs": [
    {
     "name": "stdin",
     "output_type": "stream",
     "text": [
      "Enter the 1st Number 2\n",
      "Enter the 2nd Number 1\n"
     ]
    },
    {
     "name": "stdout",
     "output_type": "stream",
     "text": [
      "2 is Larger\n"
     ]
    }
   ],
   "source": [
    "#Find the largest of two numbers\n",
    "a=int(input('Enter the 1st Number'))\n",
    "b=int(input('Enter the 2nd Number'))\n",
    "if a>b:\n",
    "    print(a,'is Larger')\n",
    "else:\n",
    "    print(b,'is Larger')"
   ]
  },
  {
   "cell_type": "code",
   "execution_count": 8,
   "id": "bb5426f9-9fae-4c8e-9c32-ec71746d1941",
   "metadata": {},
   "outputs": [
    {
     "name": "stdout",
     "output_type": "stream",
     "text": [
      "1\n",
      "2\n",
      "3\n",
      "4\n",
      "5\n",
      "6\n",
      "7\n",
      "8\n",
      "9\n",
      "10\n"
     ]
    }
   ],
   "source": [
    "#Print the number from 1 to 10 using for loop\n",
    "for i in range(11):\n",
    "    if i==0:\n",
    "        continue\n",
    "    print(i)"
   ]
  },
  {
   "cell_type": "code",
   "execution_count": 9,
   "id": "5f6fb312-241a-4bf9-ac01-505f4e204f61",
   "metadata": {},
   "outputs": [
    {
     "name": "stdout",
     "output_type": "stream",
     "text": [
      "2\n",
      "4\n",
      "6\n",
      "8\n",
      "10\n"
     ]
    }
   ],
   "source": [
    "#Print even numbers between 1 and 10 using while loop\n",
    "count=1\n",
    "while count<11:\n",
    "    if count%2==0:\n",
    "        print(count)\n",
    "    count+=1"
   ]
  },
  {
   "cell_type": "code",
   "execution_count": 10,
   "id": "69636847-a277-4af4-8764-fa120f1c9524",
   "metadata": {},
   "outputs": [
    {
     "name": "stdout",
     "output_type": "stream",
     "text": [
      "0\n",
      "1\n",
      "2\n",
      "3\n",
      "4\n",
      "5\n"
     ]
    }
   ],
   "source": [
    "#Write a loop that breaks when number reaches 5\n",
    "for i in range(6):\n",
    "    print(i)"
   ]
  },
  {
   "cell_type": "code",
   "execution_count": 11,
   "id": "000563db-10cd-409c-b8de-93cba5096b96",
   "metadata": {},
   "outputs": [
    {
     "name": "stdin",
     "output_type": "stream",
     "text": [
      "Enter the year 2020\n"
     ]
    },
    {
     "name": "stdout",
     "output_type": "stream",
     "text": [
      "2020 is a LEAP YEAR\n"
     ]
    }
   ],
   "source": [
    "#Check if a given year is a leap year\n",
    "user8=int(input('Enter the year'))\n",
    "if user8%4==0:\n",
    "    print(user8,'is a LEAP YEAR')\n",
    "else:\n",
    "    print('It is not a LEAP YEAR')"
   ]
  },
  {
   "cell_type": "code",
   "execution_count": 12,
   "id": "f11e1ab7-9de9-404d-b702-f034e47735f0",
   "metadata": {},
   "outputs": [
    {
     "name": "stdin",
     "output_type": "stream",
     "text": [
      "Enter a Number: 7\n"
     ]
    },
    {
     "name": "stdout",
     "output_type": "stream",
     "text": [
      "The given number is POSITIVE and an ODD\n"
     ]
    }
   ],
   "source": [
    "#Check if a number is positive and then check if it's even or odd\n",
    "user9=int(input('Enter a Number:'))\n",
    "if user9>1:\n",
    "    if user9%2==0:\n",
    "        print('The given number is POSITIVE and an EVEN')\n",
    "    else:\n",
    "        print('The given number is POSITIVE and an ODD')\n",
    "else:\n",
    "    print('The given number is NEGATIVE')"
   ]
  },
  {
   "cell_type": "code",
   "execution_count": 13,
   "id": "96577e8f-31db-4df6-aadf-accd93b4d55b",
   "metadata": {},
   "outputs": [
    {
     "name": "stdout",
     "output_type": "stream",
     "text": [
      "55\n"
     ]
    }
   ],
   "source": [
    "#Print the sum of first 10 natural numbers using while\n",
    "count=1\n",
    "total=0\n",
    "while count<=10:\n",
    "    total=total+count\n",
    "    count+=1\n",
    "print(total)"
   ]
  },
  {
   "cell_type": "code",
   "execution_count": null,
   "id": "eed52944-6d38-49f2-9643-55ca2f83734e",
   "metadata": {},
   "outputs": [],
   "source": []
  }
 ],
 "metadata": {
  "kernelspec": {
   "display_name": "Python [conda env:base] *",
   "language": "python",
   "name": "conda-base-py"
  },
  "language_info": {
   "codemirror_mode": {
    "name": "ipython",
    "version": 3
   },
   "file_extension": ".py",
   "mimetype": "text/x-python",
   "name": "python",
   "nbconvert_exporter": "python",
   "pygments_lexer": "ipython3",
   "version": "3.13.5"
  }
 },
 "nbformat": 4,
 "nbformat_minor": 5
}
